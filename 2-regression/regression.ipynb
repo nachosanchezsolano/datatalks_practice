{
 "cells": [
  {
   "cell_type": "markdown",
   "id": "b9eb349b",
   "metadata": {},
   "source": [
    "### Dataset\n",
    "\n",
    "For this homework, we'll use the Car Fuel Efficiency dataset. Download it from \n",
    "<a href='https://raw.githubusercontent.com/alexeygrigorev/datasets/master/car_fuel_efficiency.csv'>here</a>.\n",
    "\n",
    "\n",
    "### Preparing the dataset \n",
    "\n",
    "Use only the following columns:\n",
    "\n",
    "* `'engine_displacement'`,\n",
    "* `'horsepower'`,\n",
    "* `'vehicle_weight'`,\n",
    "* `'model_year'`,\n",
    "* `'fuel_efficiency_mpg'`"
   ]
  },
  {
   "cell_type": "markdown",
   "id": "c156fef7",
   "metadata": {},
   "source": [
    "<h1>EDA</h1>"
   ]
  },
  {
   "cell_type": "code",
   "execution_count": 61,
   "id": "f6ba5ada",
   "metadata": {},
   "outputs": [
    {
     "data": {
      "text/html": [
       "<div>\n",
       "<style scoped>\n",
       "    .dataframe tbody tr th:only-of-type {\n",
       "        vertical-align: middle;\n",
       "    }\n",
       "\n",
       "    .dataframe tbody tr th {\n",
       "        vertical-align: top;\n",
       "    }\n",
       "\n",
       "    .dataframe thead th {\n",
       "        text-align: right;\n",
       "    }\n",
       "</style>\n",
       "<table border=\"1\" class=\"dataframe\">\n",
       "  <thead>\n",
       "    <tr style=\"text-align: right;\">\n",
       "      <th></th>\n",
       "      <th>engine_displacement</th>\n",
       "      <th>horsepower</th>\n",
       "      <th>vehicle_weight</th>\n",
       "      <th>model_year</th>\n",
       "      <th>fuel_efficiency_mpg</th>\n",
       "    </tr>\n",
       "  </thead>\n",
       "  <tbody>\n",
       "    <tr>\n",
       "      <th>0</th>\n",
       "      <td>170</td>\n",
       "      <td>159.0</td>\n",
       "      <td>3413.433759</td>\n",
       "      <td>2003</td>\n",
       "      <td>13.231729</td>\n",
       "    </tr>\n",
       "    <tr>\n",
       "      <th>1</th>\n",
       "      <td>130</td>\n",
       "      <td>97.0</td>\n",
       "      <td>3149.664934</td>\n",
       "      <td>2007</td>\n",
       "      <td>13.688217</td>\n",
       "    </tr>\n",
       "    <tr>\n",
       "      <th>2</th>\n",
       "      <td>170</td>\n",
       "      <td>78.0</td>\n",
       "      <td>3079.038997</td>\n",
       "      <td>2018</td>\n",
       "      <td>14.246341</td>\n",
       "    </tr>\n",
       "    <tr>\n",
       "      <th>3</th>\n",
       "      <td>220</td>\n",
       "      <td>NaN</td>\n",
       "      <td>2542.392402</td>\n",
       "      <td>2009</td>\n",
       "      <td>16.912736</td>\n",
       "    </tr>\n",
       "    <tr>\n",
       "      <th>4</th>\n",
       "      <td>210</td>\n",
       "      <td>140.0</td>\n",
       "      <td>3460.870990</td>\n",
       "      <td>2009</td>\n",
       "      <td>12.488369</td>\n",
       "    </tr>\n",
       "    <tr>\n",
       "      <th>...</th>\n",
       "      <td>...</td>\n",
       "      <td>...</td>\n",
       "      <td>...</td>\n",
       "      <td>...</td>\n",
       "      <td>...</td>\n",
       "    </tr>\n",
       "    <tr>\n",
       "      <th>9699</th>\n",
       "      <td>140</td>\n",
       "      <td>164.0</td>\n",
       "      <td>2981.107371</td>\n",
       "      <td>2013</td>\n",
       "      <td>15.101802</td>\n",
       "    </tr>\n",
       "    <tr>\n",
       "      <th>9700</th>\n",
       "      <td>180</td>\n",
       "      <td>154.0</td>\n",
       "      <td>2439.525729</td>\n",
       "      <td>2004</td>\n",
       "      <td>17.962326</td>\n",
       "    </tr>\n",
       "    <tr>\n",
       "      <th>9701</th>\n",
       "      <td>220</td>\n",
       "      <td>138.0</td>\n",
       "      <td>2583.471318</td>\n",
       "      <td>2008</td>\n",
       "      <td>17.186587</td>\n",
       "    </tr>\n",
       "    <tr>\n",
       "      <th>9702</th>\n",
       "      <td>230</td>\n",
       "      <td>177.0</td>\n",
       "      <td>2905.527390</td>\n",
       "      <td>2011</td>\n",
       "      <td>15.331551</td>\n",
       "    </tr>\n",
       "    <tr>\n",
       "      <th>9703</th>\n",
       "      <td>270</td>\n",
       "      <td>140.0</td>\n",
       "      <td>2908.043477</td>\n",
       "      <td>2005</td>\n",
       "      <td>14.884467</td>\n",
       "    </tr>\n",
       "  </tbody>\n",
       "</table>\n",
       "<p>9704 rows × 5 columns</p>\n",
       "</div>"
      ],
      "text/plain": [
       "      engine_displacement  horsepower  vehicle_weight  model_year  \\\n",
       "0                     170       159.0     3413.433759        2003   \n",
       "1                     130        97.0     3149.664934        2007   \n",
       "2                     170        78.0     3079.038997        2018   \n",
       "3                     220         NaN     2542.392402        2009   \n",
       "4                     210       140.0     3460.870990        2009   \n",
       "...                   ...         ...             ...         ...   \n",
       "9699                  140       164.0     2981.107371        2013   \n",
       "9700                  180       154.0     2439.525729        2004   \n",
       "9701                  220       138.0     2583.471318        2008   \n",
       "9702                  230       177.0     2905.527390        2011   \n",
       "9703                  270       140.0     2908.043477        2005   \n",
       "\n",
       "      fuel_efficiency_mpg  \n",
       "0               13.231729  \n",
       "1               13.688217  \n",
       "2               14.246341  \n",
       "3               16.912736  \n",
       "4               12.488369  \n",
       "...                   ...  \n",
       "9699            15.101802  \n",
       "9700            17.962326  \n",
       "9701            17.186587  \n",
       "9702            15.331551  \n",
       "9703            14.884467  \n",
       "\n",
       "[9704 rows x 5 columns]"
      ]
     },
     "execution_count": 61,
     "metadata": {},
     "output_type": "execute_result"
    }
   ],
   "source": [
    "import pandas as pd\n",
    "import numpy as np\n",
    "import seaborn as sns\n",
    "import matplotlib.pyplot as plt\n",
    "\n",
    "df = pd.read_csv(filepath_or_buffer=\"car_fuel_efficiency.csv\")\n",
    "\n",
    "df = df[[\n",
    "    'engine_displacement',\n",
    "    'horsepower',\n",
    "    'vehicle_weight',\n",
    "    'model_year',\n",
    "    'fuel_efficiency_mpg']]\n",
    "df"
   ]
  },
  {
   "cell_type": "code",
   "execution_count": 62,
   "id": "91f81b7f",
   "metadata": {},
   "outputs": [
    {
     "data": {
      "text/plain": [
       "engine_displacement      int64\n",
       "horsepower             float64\n",
       "vehicle_weight         float64\n",
       "model_year               int64\n",
       "fuel_efficiency_mpg    float64\n",
       "dtype: object"
      ]
     },
     "execution_count": 62,
     "metadata": {},
     "output_type": "execute_result"
    }
   ],
   "source": [
    "df.dtypes"
   ]
  },
  {
   "cell_type": "markdown",
   "id": "b832a3ef",
   "metadata": {},
   "source": [
    "### Question 1\n",
    "\n",
    "There's one column with missing values. What is it?\n",
    "\n",
    "* `'engine_displacement'`\n",
    "* `'horsepower'`\n",
    "* `'vehicle_weight'`\n",
    "* `'model_year'`"
   ]
  },
  {
   "cell_type": "code",
   "execution_count": 63,
   "id": "40afba17",
   "metadata": {},
   "outputs": [
    {
     "data": {
      "text/plain": [
       "['horsepower']"
      ]
     },
     "execution_count": 63,
     "metadata": {},
     "output_type": "execute_result"
    }
   ],
   "source": [
    "missing_value_columns = df.columns[df.isnull().any()].tolist()\n",
    "missing_value_columns"
   ]
  },
  {
   "cell_type": "markdown",
   "id": "129e7ddf",
   "metadata": {},
   "source": [
    "### Question 2\n",
    "\n",
    "What's the median (50% percentile) for variable `'horsepower'`?\n",
    "\n",
    "- 49\n",
    "- 99\n",
    "- 149\n",
    "- 199"
   ]
  },
  {
   "cell_type": "code",
   "execution_count": 64,
   "id": "044a1e5d",
   "metadata": {},
   "outputs": [
    {
     "data": {
      "text/plain": [
       "0       159.0\n",
       "1        97.0\n",
       "2        78.0\n",
       "3         NaN\n",
       "4       140.0\n",
       "        ...  \n",
       "9699    164.0\n",
       "9700    154.0\n",
       "9701    138.0\n",
       "9702    177.0\n",
       "9703    140.0\n",
       "Name: horsepower, Length: 9704, dtype: float64"
      ]
     },
     "execution_count": 64,
     "metadata": {},
     "output_type": "execute_result"
    }
   ],
   "source": [
    "horsepower_median = df['horsepower'].median()\n",
    "\n",
    "horsepower_median\n",
    "\n",
    "df['horsepower']\n"
   ]
  },
  {
   "cell_type": "markdown",
   "id": "dbcc0bed",
   "metadata": {},
   "source": [
    "### Prepare and split the dataset\n",
    "\n",
    "* Shuffle the dataset (the filtered one you created above), use seed `42`.\n",
    "* Split your data in train/val/test sets, with 60%/20%/20% distribution.\n",
    "\n",
    "Use the same code as in the lectures\n"
   ]
  },
  {
   "cell_type": "code",
   "execution_count": 65,
   "id": "6ac63795",
   "metadata": {},
   "outputs": [
    {
     "data": {
      "text/plain": [
       "((1940, 5), (5824, 5), (1940, 5))"
      ]
     },
     "execution_count": 65,
     "metadata": {},
     "output_type": "execute_result"
    }
   ],
   "source": [
    "n=len(df)\n",
    "\n",
    "nval= int(n*0.2)\n",
    "ntest = int(n*0.2)\n",
    "ntrain = n - nval - ntest\n",
    "\n",
    "\n",
    "idx= np.arange(n)\n",
    "np.random.seed(42)\n",
    "np.random.shuffle(idx)\n",
    "\n",
    "\n",
    "dfVal = df.iloc[idx[:nval]]\n",
    "dfTrain = df.iloc[idx[nval:nval+ntrain]]\n",
    "dfTest = df.iloc[idx[nval+ntrain:]]\n",
    "\n",
    "\n",
    "dfVal.shape,dfTrain.shape,dfTest.shape"
   ]
  },
  {
   "cell_type": "markdown",
   "id": "8a0ff606",
   "metadata": {},
   "source": [
    "### Question 3\n",
    "\n",
    "* We need to deal with missing values for the column from Q1.\n",
    "* We have two options: fill it with 0 or with the mean of this variable.\n",
    "* Try both options. For each, train a linear regression model without regularization using the code from the lessons.\n",
    "* For computing the mean, use the training only!\n",
    "* Use the validation dataset to evaluate the models and compare the RMSE of each option.\n",
    "* Round the RMSE scores to 2 decimal digits using `round(score, 2)`\n",
    "* Which option gives better RMSE?"
   ]
  },
  {
   "cell_type": "markdown",
   "id": "27f5098e",
   "metadata": {},
   "source": [
    " <h3>Fill it with 0 Dataset"
   ]
  },
  {
   "cell_type": "code",
   "execution_count": 66,
   "id": "4fae9547",
   "metadata": {},
   "outputs": [
    {
     "name": "stdout",
     "output_type": "stream",
     "text": [
      "(5824, 4) (1940, 4) (1940, 4)\n"
     ]
    }
   ],
   "source": [
    "\n",
    "yTrain = np.log1p(dfTrain.fuel_efficiency_mpg.values)\n",
    "yVal = np.log1p(dfVal.fuel_efficiency_mpg.values)\n",
    "yTest = np.log1p(dfTest.fuel_efficiency_mpg.values)\n",
    "\n",
    "del dfTrain['fuel_efficiency_mpg']\n",
    "del dfVal['fuel_efficiency_mpg']\n",
    "del dfTest['fuel_efficiency_mpg']\n",
    "print(dfTrain.shape, dfVal.shape, dfTest.shape)\n",
    "\n",
    "base= [\n",
    "    'engine_displacement',\n",
    "    'horsepower',\n",
    "    'vehicle_weight',\n",
    "    'model_year',]\n",
    "\n",
    "def prepare_X(df):\n",
    "    df_num = df[base]\n",
    "    df_num = df_num.fillna(0)\n",
    "    X = df_num.values\n",
    "    return X\n",
    "\n",
    "def dot(xi, w):\n",
    "    n = len(xi)\n",
    "    res = 0.\n",
    "    for j in range(n):\n",
    "        res += xi[j] * w[j]\n",
    "    return res\n",
    "\n",
    "def linear_regression(x, y):\n",
    "    ones = np.ones(x.shape[0])\n",
    "    X = np.column_stack([ones, x])\n",
    "\n",
    "    XTX= X.T.dot(X)\n",
    "    XTX_inv = np.linalg.inv(XTX)\n",
    "    w = XTX_inv.dot(X.T).dot(y)\n",
    "\n",
    "    return w[0] , w[1:]\n",
    "\n"
   ]
  },
  {
   "cell_type": "code",
   "execution_count": 67,
   "id": "b12dec46",
   "metadata": {},
   "outputs": [
    {
     "data": {
      "text/plain": [
       "<Axes: ylabel='Count'>"
      ]
     },
     "execution_count": 67,
     "metadata": {},
     "output_type": "execute_result"
    },
    {
     "data": {
      "image/png": "[encoded data removed]",
      "text/plain": [
       "<Figure size 640x480 with 1 Axes>"
      ]
     },
     "metadata": {},
     "output_type": "display_data"
    }
   ],
   "source": [
    "xTrain = prepare_X(dfTrain)\n",
    "w0, w = linear_regression(xTrain, yTrain)\n",
    "\n",
    "yPred = w0 + xTrain.dot(w)\n",
    "\n",
    "sns.histplot(yPred)\n",
    "sns.histplot(yTrain)\n",
    "\n"
   ]
  },
  {
   "cell_type": "code",
   "execution_count": 68,
   "id": "07d2efc1",
   "metadata": {},
   "outputs": [],
   "source": [
    "def rmse(y, yPred):\n",
    "    se = (y - yPred) ** 2\n",
    "    mse = se.mean()\n",
    "    return round(np.sqrt(mse),2)"
   ]
  },
  {
   "cell_type": "code",
   "execution_count": 69,
   "id": "6794be01",
   "metadata": {},
   "outputs": [
    {
     "data": {
      "text/plain": [
       "np.float64(0.04)"
      ]
     },
     "execution_count": 69,
     "metadata": {},
     "output_type": "execute_result"
    }
   ],
   "source": [
    "xVal = prepare_X(dfVal)\n",
    "yPred = w0 + xVal.dot(w)\n",
    "\n",
    "rmse(yVal, yPred)"
   ]
  },
  {
   "cell_type": "markdown",
   "id": "051eebb4",
   "metadata": {},
   "source": [
    " <h3>Fill it with median Dataset"
   ]
  },
  {
   "cell_type": "code",
   "execution_count": 70,
   "id": "743bd55e",
   "metadata": {},
   "outputs": [
    {
     "data": {
      "text/plain": [
       "<Axes: ylabel='Count'>"
      ]
     },
     "execution_count": 70,
     "metadata": {},
     "output_type": "execute_result"
    },
    {
     "data": {
      "image/png": "[encoded data removed]",
      "text/plain": [
       "<Figure size 640x480 with 1 Axes>"
      ]
     },
     "metadata": {},
     "output_type": "display_data"
    }
   ],
   "source": [
    "def prepare_median_X(df):\n",
    "    df_median=(df.median(numeric_only=True))\n",
    "\n",
    "    return df.fillna(df_median)\n",
    "\n",
    "xTrain = prepare_median_X(dfTrain)\n",
    "w0, w = linear_regression(xTrain, yTrain)\n",
    "\n",
    "\n",
    "yPred = w0 + xTrain.dot(w)\n",
    "\n",
    "sns.histplot(yPred)\n",
    "sns.histplot(yTrain)"
   ]
  },
  {
   "cell_type": "code",
   "execution_count": 71,
   "id": "d27c6322",
   "metadata": {},
   "outputs": [
    {
     "data": {
      "text/plain": [
       "np.float64(0.04)"
      ]
     },
     "execution_count": 71,
     "metadata": {},
     "output_type": "execute_result"
    }
   ],
   "source": [
    "xVal = prepare_median_X(dfVal)\n",
    "yPred = w0 + xVal.dot(w)\n",
    "\n",
    "rmse(yVal, yPred)"
   ]
  },
  {
   "cell_type": "markdown",
   "id": "f3589991",
   "metadata": {},
   "source": [
    "<h3>Response: - its the same\n"
   ]
  },
  {
   "cell_type": "markdown",
   "id": "bd0fdb5c",
   "metadata": {},
   "source": [
    "### Question 4\n",
    "\n",
    "* Now let's train a regularized linear regression.\n",
    "* For this question, fill the NAs with 0. \n",
    "* Try different values of `r` from this list: `[0, 0.01, 0.1, 1, 5, 10, 100]`.\n",
    "* Use RMSE to evaluate the model on the validation dataset.\n",
    "* Round the RMSE scores to 2 decimal digits.\n",
    "* Which `r` gives the best RMSE?"
   ]
  },
  {
   "cell_type": "code",
   "execution_count": null,
   "id": "a4cc73c2",
   "metadata": {},
   "outputs": [
    {
     "ename": "ValueError",
     "evalue": "operands could not be broadcast together with shapes (1940,) (5824,) ",
     "output_type": "error",
     "traceback": [
      "\u001b[31m---------------------------------------------------------------------------\u001b[39m",
      "\u001b[31mValueError\u001b[39m                                Traceback (most recent call last)",
      "\u001b[36mCell\u001b[39m\u001b[36m \u001b[39m\u001b[32mIn[74]\u001b[39m\u001b[32m, line 24\u001b[39m\n\u001b[32m     22\u001b[39m w0, w = train_linear_regression_reg(xTrain, yTrain, r=r) \n\u001b[32m     23\u001b[39m yPred = w0 + xTrain.dot(w)\n\u001b[32m---> \u001b[39m\u001b[32m24\u001b[39m score = \u001b[43mrmse\u001b[49m\u001b[43m(\u001b[49m\u001b[43myVal\u001b[49m\u001b[43m,\u001b[49m\u001b[43m \u001b[49m\u001b[43myPred\u001b[49m\u001b[43m)\u001b[49m\n\u001b[32m     26\u001b[39m \u001b[38;5;66;03m# Calcula RMSE\u001b[39;00m\n\u001b[32m     27\u001b[39m score = rmse(yVal, yPred)\n",
      "\u001b[36mCell\u001b[39m\u001b[36m \u001b[39m\u001b[32mIn[68]\u001b[39m\u001b[32m, line 2\u001b[39m, in \u001b[36mrmse\u001b[39m\u001b[34m(y, yPred)\u001b[39m\n\u001b[32m      1\u001b[39m \u001b[38;5;28;01mdef\u001b[39;00m\u001b[38;5;250m \u001b[39m\u001b[34mrmse\u001b[39m(y, yPred):\n\u001b[32m----> \u001b[39m\u001b[32m2\u001b[39m     se = (\u001b[43my\u001b[49m\u001b[43m \u001b[49m\u001b[43m-\u001b[49m\u001b[43m \u001b[49m\u001b[43myPred\u001b[49m) ** \u001b[32m2\u001b[39m\n\u001b[32m      3\u001b[39m     mse = se.mean()\n\u001b[32m      4\u001b[39m     \u001b[38;5;28;01mreturn\u001b[39;00m \u001b[38;5;28mround\u001b[39m(np.sqrt(mse),\u001b[32m2\u001b[39m)\n",
      "\u001b[31mValueError\u001b[39m: operands could not be broadcast together with shapes (1940,) (5824,) "
     ]
    }
   ],
   "source": [
    "def train_linear_regression_reg(X, y, r=0.001):\n",
    "    ones = np.ones(X.shape[0])\n",
    "    X = np.column_stack([ones, X])\n",
    "     \n",
    "    XTX = X.T.dot(X)\n",
    "    XTX = XTX + r*np.eye(XTX.shape[0])\n",
    "     \n",
    "    XTX_inv = np.linalg.inv(XTX)\n",
    "    w_full = XTX_inv.dot(X.T).dot(y)\n",
    "     \n",
    "    return w_full[0], w_full[1:]\n",
    "\n",
    "\n",
    "# Prepara X para cada iteración\n",
    "xTrain = prepare_X(dfTrain)\n",
    "xVal = prepare_X(dfVal)\n",
    "\n",
    "r_values = [0, 0.01, 0.1, 1, 5, 10, 100]\n",
    "rmse_scores = []\n",
    "\n",
    "for r in r_values:\n",
    "    w0, w = train_linear_regression_reg(xTrain, yTrain, r=r) \n",
    "    yPred = w0 + xVal.dot(w)\n",
    "    score = rmse(yVal, yPred)\n",
    "    \n",
    "    # Calcula RMSE\n",
    "    score = rmse(yVal, yPred)\n",
    "    rmse_scores.append(score)\n",
    "    print(f\"r = {r}, RMSE = {score}\")\n",
    "\n",
    "best_r = r_values[np.argmin(rmse_scores)]\n",
    "print(f\"\\nMejor r: {best_r}, con RMSE: {min(rmse_scores)}\")\n",
    "\n",
    "# Visualiza los resultados\n",
    "plt.figure(figsize=(10, 6))\n",
    "plt.plot(r_values, rmse_scores, '-o')\n",
    "plt.xscale('log')\n",
    "plt.xlabel('r (regularización)')\n",
    "plt.ylabel('RMSE')\n",
    "plt.title('RMSE vs Regularización')\n",
    "plt.grid(True)\n",
    "plt.show()\n"
   ]
  },
  {
   "cell_type": "markdown",
   "id": "23528de9",
   "metadata": {},
   "source": [
    "### Question 5 \n",
    "\n",
    "* We used seed 42 for splitting the data. Let's find out how selecting the seed influences our score.\n",
    "* Try different seed values: `[0, 1, 2, 3, 4, 5, 6, 7, 8, 9]`.\n",
    "* For each seed, do the train/validation/test split with 60%/20%/20% distribution.\n",
    "* Fill the missing values with 0 and train a model without regularization.\n",
    "* For each seed, evaluate the model on the validation dataset and collect the RMSE scores. \n",
    "* What's the standard deviation of all the scores? To compute the standard deviation, use `np.std`.\n",
    "* Round the result to 3 decimal digits (`round(std, 3)`)\n",
    "\n",
    "What's the value of std?\n",
    "\n",
    "- 0.001\n",
    "- 0.006\n",
    "- 0.060\n",
    "- 0.600"
   ]
  },
  {
   "cell_type": "code",
   "execution_count": 73,
   "id": "047c2fdc",
   "metadata": {},
   "outputs": [
    {
     "name": "stdout",
     "output_type": "stream",
     "text": [
      "[np.float64(0.17), np.float64(0.17), np.float64(0.17), np.float64(0.17), np.float64(0.17), np.float64(0.17), np.float64(0.17), np.float64(0.17), np.float64(0.17), np.float64(0.17)]\n"
     ]
    },
    {
     "data": {
      "text/plain": [
       "np.float64(2.7755575615628914e-17)"
      ]
     },
     "execution_count": 73,
     "metadata": {},
     "output_type": "execute_result"
    }
   ],
   "source": [
    "seeds=[0, 1, 2, 3, 4, 5, 6, 7, 8, 9]\n",
    "rmse_scores=[]\n",
    "\n",
    "\n",
    "for seed in seeds:    \n",
    "    \n",
    "    idx = np.arange(len(df))\n",
    "    np.random.seed(seed)\n",
    "    np.random.shuffle(idx)\n",
    "    dfVal = df.iloc[idx[:nval]]\n",
    "    dfTrain = df.iloc[idx[nval:nval+ntrain]]\n",
    "    dfTest = df.iloc[idx[nval+ntrain:]]\n",
    "\n",
    "    xTrain=prepare_X(dfTrain)\n",
    "    xVal = prepare_X(dfVal)     \n",
    "    \n",
    "    w0, w = linear_regression(xTrain, yTrain)\n",
    "    yPred = w0 + xVal.dot(w)\n",
    "\n",
    "\n",
    "    score = rmse(yVal, yPred)\n",
    "    rmse_scores.append(score)\n",
    "\n",
    "print(rmse_scores)\n",
    "\n",
    "np.std(rmse_scores)\n",
    "    \n"
   ]
  },
  {
   "cell_type": "code",
   "execution_count": null,
   "id": "7e4f3bac",
   "metadata": {},
   "outputs": [],
   "source": []
  }
 ],
 "metadata": {
  "kernelspec": {
   "display_name": ".env",
   "language": "python",
   "name": "python3"
  },
  "language_info": {
   "codemirror_mode": {
    "name": "ipython",
    "version": 3
   },
   "file_extension": ".py",
   "mimetype": "text/x-python",
   "name": "python",
   "nbconvert_exporter": "python",
   "pygments_lexer": "ipython3",
   "version": "3.12.1"
  }
 },
 "nbformat": 4,
 "nbformat_minor": 5
}
