{
 "cells": [
  {
   "cell_type": "markdown",
   "id": "8eb8f392",
   "metadata": {},
   "source": [
    "<H2> 01 - Intro</H2>\n",
    "\n",
    "Q1. Pandas version"
   ]
  },
  {
   "cell_type": "code",
   "execution_count": 35,
   "id": "872095d1",
   "metadata": {},
   "outputs": [
    {
     "data": {
      "text/plain": [
       "'2.3.2'"
      ]
     },
     "execution_count": 35,
     "metadata": {},
     "output_type": "execute_result"
    }
   ],
   "source": [
    "import pandas as pd\n",
    "import numpy as np\n",
    "\n",
    "pd.__version__"
   ]
  },
  {
   "cell_type": "markdown",
   "id": "e3f95b92",
   "metadata": {},
   "source": [
    "### Q2. Records count\n",
    "\n",
    "How many records are in the dataset?\n",
    "\n",
    "- 4704\n",
    "- 8704\n",
    "- 9704\n",
    "- 17704"
   ]
  },
  {
   "cell_type": "code",
   "execution_count": 3,
   "id": "08a67ff4",
   "metadata": {},
   "outputs": [
    {
     "name": "stdout",
     "output_type": "stream",
     "text": [
      "9704\n",
      "9704\n"
     ]
    }
   ],
   "source": [
    "df = pd.read_csv(filepath_or_buffer=\"car_fuel_efficiency.csv\")\n",
    "\n",
    "# df.shape : Return a tuple representing the dimensionality of the DataFrame.(raws, columns)\n",
    "df_len=df.shape[0]\n",
    "print(df_len)\n",
    "\n",
    "df_len= len(df)\n",
    "print(df_len)"
   ]
  },
  {
   "cell_type": "markdown",
   "id": "73f8bd6e",
   "metadata": {},
   "source": [
    "### Q3. Fuel types\n",
    "\n",
    "How many fuel types are presented in the dataset?\n",
    "\n",
    "- 1\n",
    "- 2\n",
    "- 3\n",
    "- 4"
   ]
  },
  {
   "cell_type": "code",
   "execution_count": 4,
   "id": "1782e3df",
   "metadata": {},
   "outputs": [
    {
     "name": "stdout",
     "output_type": "stream",
     "text": [
      "Index(['engine_displacement', 'num_cylinders', 'horsepower', 'vehicle_weight',\n",
      "       'acceleration', 'model_year', 'origin', 'fuel_type', 'drivetrain',\n",
      "       'num_doors', 'fuel_efficiency_mpg'],\n",
      "      dtype='object')\n",
      "the number of fuel_type is 2\n"
     ]
    }
   ],
   "source": [
    "print(df.columns)\n",
    "\n",
    "fuel_type = df[\"fuel_type\"].unique()\n",
    "\n",
    "print(f\"the number of fuel_type is {len(fuel_type)}\")"
   ]
  },
  {
   "cell_type": "markdown",
   "id": "81564438",
   "metadata": {},
   "source": [
    "### Q4. Missing values\n",
    "\n",
    "How many columns in the dataset have missing values?\n",
    "\n",
    "- 0\n",
    "- 1\n",
    "- 2\n",
    "- 3\n",
    "- 4"
   ]
  },
  {
   "cell_type": "code",
   "execution_count": 5,
   "id": "11590082",
   "metadata": {},
   "outputs": [
    {
     "name": "stdout",
     "output_type": "stream",
     "text": [
      "4\n"
     ]
    }
   ],
   "source": [
    "missing_values = df.isna().sum()\n",
    "columns_missing_values = missing_values[missing_values > 0]\n",
    "print(len(columns_missing_values))\n",
    "\n"
   ]
  },
  {
   "cell_type": "markdown",
   "id": "d106e832",
   "metadata": {},
   "source": [
    "### Q5. Max fuel efficiency\n",
    "\n",
    "What's the maximum fuel efficiency of cars from Asia?\n",
    "\n",
    "- 13.75\n",
    "- 23.75\n",
    "- 33.75\n",
    "- 43.75\n"
   ]
  },
  {
   "cell_type": "code",
   "execution_count": 6,
   "id": "863568ce",
   "metadata": {},
   "outputs": [
    {
     "name": "stdout",
     "output_type": "stream",
     "text": [
      "The maximun value of the column 'mpg' for cars manufactured in USA or Europe is  23.76\n"
     ]
    }
   ],
   "source": [
    "asia_cars = df [ (df[\"origin\"] == \"Asia\") ]\n",
    "max_mpg_asia = asia_cars[\"fuel_efficiency_mpg\"].max()\n",
    "print(f\"The maximun value of the column 'mpg' for cars manufactured in USA or Europe is {max_mpg_asia: .2f}\")"
   ]
  },
  {
   "cell_type": "markdown",
   "id": "fe0cd313",
   "metadata": {},
   "source": [
    "### Q6. Median value of horsepower\n",
    "\n",
    "1. Find the median value of `horsepower` column in the dataset.\n",
    "2. Next, calculate the most frequent value of the same `horsepower` column.\n",
    "3. Use `fillna` method to fill the missing values in `horsepower` column with the most frequent value from the previous step.\n",
    "4. Now, calculate the median value of `horsepower` once again.\n",
    "\n",
    "Has it changed?\n",
    "\n",
    "\n",
    "- Yes, it increased\n",
    "- Yes, it decreased\n",
    "- No"
   ]
  },
  {
   "cell_type": "code",
   "execution_count": 13,
   "id": "10dd856b",
   "metadata": {},
   "outputs": [
    {
     "name": "stdout",
     "output_type": "stream",
     "text": [
      "The median value of the column 'horsepower' is 152.0\n",
      "The most frequent value of the column 'horsepower' is 152.0\n",
      "After replacing missing values, the median value of the column 'horsepower' is 152.0, the median does not change\n"
     ]
    }
   ],
   "source": [
    "## 1 # median : middle value in an ordered set of values\n",
    "median_horsepower = df[\"horsepower\"].median()\n",
    "print(f\"The median value of the column 'horsepower' is {median_horsepower}\")\n",
    "\n",
    "## 2 mode : the most frequent value in a set of values\n",
    "\n",
    "most_frequent_horsepower = df[\"horsepower\"].mode()[0]\n",
    "print(f\"The most frequent value of the column 'horsepower' is {most_frequent_horsepower}\")\n",
    "\n",
    "## 3\n",
    "df = df.fillna(most_frequent_horsepower)\n",
    "\n",
    "median_horsepower = df[\"horsepower\"].median()\n",
    "print(f\"After replacing missing values, the median value of the column 'horsepower' is {median_horsepower}, the median does not change\")"
   ]
  },
  {
   "cell_type": "markdown",
   "id": "9b71bf6d",
   "metadata": {},
   "source": [
    "### Q7. Sum of weights\n",
    "\n",
    "1. Select all the cars from Asia\n",
    "2. Select only columns `vehicle_weight` and `model_year`\n",
    "3. Select the first 7 values\n",
    "4. Get the underlying NumPy array. Let's call it `X`.\n",
    "5. Compute matrix-matrix multiplication between the transpose of `X` and `X`. To get the transpose, use `X.T`. Let's call the result `XTX`.\n",
    "6. Invert `XTX`.\n",
    "7. Create an array `y` with values `[1100, 1300, 800, 900, 1000, 1100, 1200]`.\n",
    "8. Multiply the inverse of `XTX` with the transpose of `X`, and then multiply the result by `y`. Call the result `w`.\n",
    "9. What's the sum of all the elements of the result?\n",
    "\n",
    "> **Note**: You just implemented linear regression. We'll talk about it in the next lesson.\n",
    "\n",
    "- 0.051\n",
    "- 0.51\n",
    "- 5.1\n",
    "- 51"
   ]
  },
  {
   "cell_type": "code",
   "execution_count": null,
   "id": "fd752ad0",
   "metadata": {},
   "outputs": [
    {
     "name": "stdout",
     "output_type": "stream",
     "text": [
      " The sum of w es : 0.5187709081074016\n"
     ]
    }
   ],
   "source": [
    "# 1\n",
    "asian_cars= df [ (df[\"origin\"] == \"Asia\") ]\n",
    "\n",
    "## 2\n",
    "asian_cars = asian_cars[[\"vehicle_weight\",\"model_year\"]]\n",
    "\n",
    "## 3\n",
    "asian_cars = asian_cars[:7]\n",
    "\n",
    "## 4\n",
    "X= asian_cars.to_numpy()\n",
    "\n",
    "## 5\n",
    "XTX = X.T @ X\n",
    "\n",
    "## 6\n",
    "\n",
    "XTX_inv = np.linalg.inv(XTX)\n",
    "\n",
    "## 7\n",
    "y= [1100, 1300, 800, 900, 1000, 1100, 1200]\n",
    "\n",
    "## 8 \n",
    "w = XTX_inv  @ X.T @ y\n",
    "\n",
    "## 9\n",
    "print( f\" The sum of w es : {sum(w)}\" )"
   ]
  }
 ],
 "metadata": {
  "kernelspec": {
   "display_name": ".env",
   "language": "python",
   "name": "python3"
  },
  "language_info": {
   "codemirror_mode": {
    "name": "ipython",
    "version": 3
   },
   "file_extension": ".py",
   "mimetype": "text/x-python",
   "name": "python",
   "nbconvert_exporter": "python",
   "pygments_lexer": "ipython3",
   "version": "3.12.1"
  }
 },
 "nbformat": 4,
 "nbformat_minor": 5
}
